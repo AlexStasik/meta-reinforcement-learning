{
 "cells": [
  {
   "cell_type": "code",
   "execution_count": 1,
   "metadata": {},
   "outputs": [
    {
     "name": "stdout",
     "output_type": "stream",
     "text": [
      "TensorFlow Ver:  2.1.0\n"
     ]
    }
   ],
   "source": [
    "import threading\n",
    "import multiprocessing\n",
    "import logging\n",
    "import numpy as np\n",
    "import tensorflow as tf\n",
    "import matplotlib.pyplot as plt\n",
    "import tensorflow.keras.layers as kl\n",
    "import tensorflow.keras.losses as kls\n",
    "import tensorflow.keras.optimizers as ko\n",
    "from tqdm.notebook import tqdm\n",
    "%matplotlib inline\n",
    "\n",
    "print(\"TensorFlow Ver: \", tf.__version__)"
   ]
  },
  {
   "cell_type": "code",
   "execution_count": 2,
   "metadata": {},
   "outputs": [],
   "source": [
    "seed = 1234\n",
    "tf.random.set_seed(seed)\n",
    "np.random.seed(seed)"
   ]
  },
  {
   "cell_type": "code",
   "execution_count": 3,
   "metadata": {},
   "outputs": [],
   "source": [
    "import os\n",
    "os.environ[\"CUDA_DEVICE_ORDER\"]=\"PCI_BUS_ID\"\n",
    "os.environ[\"CUDA_VISIBLE_DEVICES\"]=\"2\""
   ]
  },
  {
   "cell_type": "code",
   "execution_count": 4,
   "metadata": {},
   "outputs": [
    {
     "name": "stdout",
     "output_type": "stream",
     "text": [
      "Eager Execution: True\n",
      "1 + 2 + 3 + 4 + 5 = tf.Tensor(15, shape=(), dtype=int32)\n"
     ]
    }
   ],
   "source": [
    "# Eager by default!\n",
    "print(\"Eager Execution:\", tf.executing_eagerly())\n",
    "print(\"1 + 2 + 3 + 4 + 5 =\", tf.reduce_sum([1, 2, 3, 4, 5]))"
   ]
  },
  {
   "cell_type": "code",
   "execution_count": 5,
   "metadata": {},
   "outputs": [],
   "source": [
    "class dependent_bandit():\n",
    "    def __init__(self, difficulty):\n",
    "        self.num_actions = 2\n",
    "        self.n_timesteps = 100\n",
    "        self.difficulty = difficulty\n",
    "        self.reset()\n",
    "        \n",
    "    def set_restless_prob(self):\n",
    "        self.bandit = np.array([self.restless_list[self.timestep],1 - self.restless_list[self.timestep]])\n",
    "        \n",
    "    def reset(self):\n",
    "        self.timestep = 0\n",
    "        if self.difficulty == 'restless': \n",
    "            variance = np.random.uniform(0,.5)\n",
    "            self.restless_list = np.cumsum(np.random.uniform(-variance,variance,(150,1)))\n",
    "            self.restless_list = (self.restless_list - np.min(self.restless_list)) / (np.max(self.restless_list - np.min(self.restless_list))) \n",
    "            self.set_restless_prob()\n",
    "        if self.difficulty == 'easy': \n",
    "            bandit_prob = np.random.choice([0.9,0.1])\n",
    "        if self.difficulty == 'trivial': \n",
    "            bandit_prob = np.random.choice([1.0,0.0])\n",
    "        if self.difficulty == 'medium': \n",
    "            bandit_prob = np.random.choice([0.75,0.25])\n",
    "        if self.difficulty == 'hard': \n",
    "            bandit_prob = np.random.choice([0.6,0.4])\n",
    "        if self.difficulty == 'uniform': \n",
    "            bandit_prob = np.random.uniform()\n",
    "        if self.difficulty != 'independent' and self.difficulty != 'restless':\n",
    "            self.bandit = np.array([bandit_prob,1 - bandit_prob])\n",
    "        else:\n",
    "            self.bandit = np.random.uniform(size=2)\n",
    "        \n",
    "    def step(self,action):\n",
    "        #Get a random number.\n",
    "        if self.difficulty == 'restless': \n",
    "            self.set_restless_prob()\n",
    "        self.timestep += 1\n",
    "        bandit = self.bandit[int(action)]\n",
    "        result = np.random.uniform()\n",
    "        if result < bandit:\n",
    "            #return a positive reward.\n",
    "            reward = 1\n",
    "        else:\n",
    "            #return a negative reward.\n",
    "            reward = 0\n",
    "        if self.timestep > self.n_timesteps - 1: \n",
    "            done = True\n",
    "        else: \n",
    "            done = False\n",
    "        return reward, done, self.timestep"
   ]
  },
  {
   "cell_type": "code",
   "execution_count": 6,
   "metadata": {},
   "outputs": [],
   "source": [
    "bandit = dependent_bandit('uniform')"
   ]
  },
  {
   "cell_type": "code",
   "execution_count": 7,
   "metadata": {},
   "outputs": [],
   "source": [
    "bandit.reset()"
   ]
  },
  {
   "cell_type": "code",
   "execution_count": 8,
   "metadata": {},
   "outputs": [
    {
     "data": {
      "text/plain": [
       "(1, False, 1)"
      ]
     },
     "execution_count": 8,
     "metadata": {},
     "output_type": "execute_result"
    }
   ],
   "source": [
    "bandit.step(0)"
   ]
  },
  {
   "cell_type": "code",
   "execution_count": 9,
   "metadata": {},
   "outputs": [],
   "source": [
    "class Model:\n",
    "    def __init__(self, num_actions, batch_size=1, n_features=4, name='meta_policy'):\n",
    "        '''A3C Model\n",
    "        Having a stateful LSTM means that you will need to reset the hidden state \n",
    "        in between batches yourself if you do want independent batches. \n",
    "        The default initial hidden state in Tensorflow is all zeros.\n",
    "        \n",
    "        Parameters\n",
    "        ----------\n",
    "        learning_rate : float\n",
    "        num_actions : int\n",
    "        value_coefficient : float\n",
    "        entropy_coefficitent : float\n",
    "        input_shape : n_timesteps, batch_size, n_features\n",
    "        name : str\n",
    "        '''\n",
    "        self.num_actions = num_actions\n",
    "        self.batch_size = batch_size\n",
    "        self.n_features = n_features\n",
    "        self.model = self.create_model()\n",
    "    \n",
    "    def create_model(self):\n",
    "        inputs = kl.Input((self.batch_size, self.n_features))\n",
    "        self.lstm = kl.LSTM(\n",
    "            48, name='hidden', \n",
    "            stateful=True, \n",
    "            time_major=True, # ['time', 'batch', 'features']\n",
    "            return_sequences=True, \n",
    "            recurrent_initializer='zeros'\n",
    "        )\n",
    "        self.policy = kl.Dense(\n",
    "            self.num_actions, name='policy'\n",
    "        )\n",
    "        self.value = kl.Dense(\n",
    "            1, name='value'\n",
    "        )\n",
    "        output = self.lstm(inputs)\n",
    "        value = self.value(output)\n",
    "        policy = self.policy(output)\n",
    "        return tf.keras.Model(inputs, [policy, value])\n",
    "        \n",
    "    def _compile(self, learning_rate, value_coefficient, entropy_coefficient):\n",
    "        self.optimizer = ko.Adam(lr=learning_rate)\n",
    "        self.value_coefficient = value_coefficient\n",
    "        self.entropy_coefficient = entropy_coefficient\n",
    "\n",
    "    def predict_action_value(self, obs):\n",
    "        # Executes `call()` under the hood.\n",
    "        policy, value = self.model.predict_on_batch(obs)\n",
    "        policy, value = tf.squeeze(policy, 1), tf.squeeze(value, (1, 2))\n",
    "        actions = tf.squeeze(tf.random.categorical(policy, 1), 1)\n",
    "        return actions, value\n",
    "\n",
    "    def compute_loss(self, actions, advantages, policy_logits, returns, values):\n",
    "        assert hasattr(self, 'value_coefficient'), \"Use _compile\"\n",
    "        # Value loss is typically MSE between value estimates and returns.\n",
    "        value_loss = kls.mean_squared_error(returns, values)\n",
    "        # Sparse categorical CE loss obj that supports sample_weight arg on `call()`.\n",
    "        # `from_logits` argument ensures transformation into normalized probabilities.\n",
    "        weighted_sparse_ce = kls.SparseCategoricalCrossentropy(from_logits=True)\n",
    "        # Policy loss is defined by policy gradients, weighted by advantages.\n",
    "        # Note: we only calculate the loss on the actions we've actually taken.\n",
    "        actions = tf.cast(actions, tf.int32)\n",
    "        policy_loss = weighted_sparse_ce(actions, policy_logits, sample_weight=advantages)\n",
    "        # Entropy loss can be calculated as cross-entropy over itself.\n",
    "        probs = tf.nn.softmax(policy_logits)\n",
    "        entropy_loss = tf.reduce_sum(kls.categorical_crossentropy(probs, probs))\n",
    "        # We want to minimize policy and maximize entropy losses.\n",
    "        # Here signs are flipped because the optimizer minimizes.\n",
    "        return policy_loss - self.entropy_coefficient * entropy_loss + self.value_coefficient * value_loss\n",
    "    \n",
    "    def train(self, observations, actions, advantages, returns):\n",
    "        assert hasattr(self, 'optimizer'), 'use _compile'\n",
    "        with tf.GradientTape() as tape:\n",
    "            policy_logits, values = self.model(observations, training=True)\n",
    "            loss = self.compute_loss(actions, advantages, policy_logits, returns, values)\n",
    "        grads = tape.gradient(loss, self.model.trainable_variables)\n",
    "        self.optimizer.apply_gradients(zip(grads, self.model.trainable_variables))\n",
    "        return loss"
   ]
  },
  {
   "cell_type": "code",
   "execution_count": 10,
   "metadata": {},
   "outputs": [
    {
     "name": "stdout",
     "output_type": "stream",
     "text": [
      "tf.Tensor([0 1], shape=(2,), dtype=int64) tf.Tensor([0.0655949  0.11440822], shape=(2,), dtype=float32) (2, 1, 4)\n"
     ]
    }
   ],
   "source": [
    "env = dependent_bandit('uniform')\n",
    "model = Model(env.num_actions)\n",
    "\n",
    "action = 0\n",
    "reward, timestep = 0, 0\n",
    "# reward, done, timestep = env.step(action)\n",
    "action = tf.one_hot(action, 2)\n",
    "observation = tf.concat([\n",
    "        [[reward],[reward]], \n",
    "        [action, action],\n",
    "        [[timestep], [timestep]]], 1)\n",
    "observation = tf.expand_dims(observation, [1])\n",
    "# print(observation)\n",
    "action, value = model.predict_action_value(observation)\n",
    "print(action, value, observation.shape)"
   ]
  },
  {
   "cell_type": "code",
   "execution_count": 11,
   "metadata": {},
   "outputs": [],
   "source": [
    "class Master:\n",
    "    def __init__(\n",
    "        self, model, env_name, n_agents=None, n_episodes=250, learning_rate=7e-4, \n",
    "        gamma=0.8, value_coefficient=0.05, entropy_coefficient=0.05, name=None):\n",
    "        # `gamma` is the discount factor; coefficients are used for the loss terms.\n",
    "        n_agents = n_agents or multiprocessing.cpu_count()\n",
    "        self.env = dependent_bandit(env_name)\n",
    "        self.name = name or 'a3c_agent_env_' + env_name\n",
    "        self.model = model(\n",
    "            num_actions=self.env.num_actions,\n",
    "            name=self.name)\n",
    "        self.model._compile(learning_rate, value_coefficient, entropy_coefficient)\n",
    "        \n",
    "        self.agents = [\n",
    "            Agent(\n",
    "                model=model(\n",
    "                    num_actions=self.env.num_actions, \n",
    "                    name=f\"agent_{i}\"), \n",
    "                model_global=self.model, \n",
    "                env_name=env_name, \n",
    "                gamma=gamma, \n",
    "                episodes=n_episodes\n",
    "            ) \n",
    "            for i in range(n_agents)\n",
    "        ]\n",
    "        self.parameters = {\n",
    "            'learning_rate': learning_rate,\n",
    "            'value_coefficient': value_coefficient,\n",
    "            'entropy_coefficient': entropy_coefficient,\n",
    "            'gamma': gamma \n",
    "        }\n",
    "        \n",
    "    def save(self):\n",
    "        self.data_path.mkdir(parents=True, exist_ok=True)\n",
    "        logging.info(f\"Saving parameters, training_history and weights to {self.data_path}.\")\n",
    "        with open(str(self.data_path / self.name) + '.yaml', 'w') as f:\n",
    "            yaml.dump(self.parameters, f)\n",
    "        np.save(str(self.data_path / self.name) + '.npy', self.training_history)\n",
    "        self.model.model.save_weights(str(self.data_path / self.name))\n",
    "        \n",
    "    def load(self):\n",
    "        logging.warning(\"Updating parameters, training_history, weights and recompiling model.\")\n",
    "        with open(str(self.data_path / self.name) + '.yaml', 'r') as f:\n",
    "            self.parameters = yaml.load(f, Loader=yaml.Loader)\n",
    "        self.training_history = np.load(str(self.data_path / self.name) + '.npy')\n",
    "        self.model.model.load_weights(str(self.data_path / self.name))\n",
    "        self.__dict__.update(self.parameters)\n",
    "        self.model._compile(lr, value_c, entropy_c)\n",
    "    \n",
    "    def train(self):\n",
    "        for agent in self.agents:\n",
    "            episode_rewards = agent.start()\n",
    "            \n",
    "        for agent in self.agents:\n",
    "            agent.join()\n",
    "    \n",
    "    def _predict(self, action, reward, timestep):\n",
    "        action = np.squeeze(action)\n",
    "        action_onehot = tf.one_hot(action, self.env.num_actions)\n",
    "        observation = tf.concat([\n",
    "            [[reward]], \n",
    "            [action_onehot],\n",
    "            [[timestep]]], 1)\n",
    "        observation = tf.expand_dims(observation, [1])\n",
    "        observation = tf.cast(observation, dtype=tf.float32)\n",
    "        new_action, value = self.model.predict_action_value(observation)\n",
    "        return new_action, value, observation\n",
    "        \n",
    "    def run_episode(self, env=None):\n",
    "        env = env or self.env\n",
    "\n",
    "        env.reset()\n",
    "        # Storage helpers for a single batch of data.\n",
    "        actions = np.empty((env.n_timesteps,), dtype=np.int32)\n",
    "        rewards, values = np.empty((2, env.n_timesteps))\n",
    "        observations = np.empty((self.env.n_timesteps, 1, 4))\n",
    "        \n",
    "        self.model.model.reset_states()\n",
    "        action, reward, timestep, done, step = 0, 0, 0, 0, 0\n",
    "        while not done:\n",
    "            # action and reward at t - 1 and timestep at t\n",
    "            action, value, observations[step] = self._predict(action, reward, timestep + 1)\n",
    "            reward, done, timestep = env.step(action)\n",
    "            # rewards, values and actions at t\n",
    "            rewards[step] = reward\n",
    "            actions[step] = action\n",
    "            values[step] = value\n",
    "            step += 1\n",
    "        return actions, rewards, values, observations"
   ]
  },
  {
   "cell_type": "code",
   "execution_count": 12,
   "metadata": {},
   "outputs": [],
   "source": [
    "class Agent(threading.Thread):\n",
    "    def __init__(self, model, model_global, env_name, gamma, episodes):\n",
    "        super(Agent, self).__init__()\n",
    "        self.episodes = episodes\n",
    "        self.env = dependent_bandit(env_name)\n",
    "        self.model = model\n",
    "        self.model_global = model_global\n",
    "        self.gamma = gamma\n",
    "        self.model.model.set_weights(self.model_global.model.get_weights())\n",
    "        \n",
    "    def _predict(self, action, reward, timestep):\n",
    "        action = np.squeeze(action)\n",
    "        action_onehot = tf.one_hot(action, self.env.num_actions)\n",
    "        observation = tf.concat([\n",
    "            [[reward]], \n",
    "            [action_onehot],\n",
    "            [[timestep]]], 1)\n",
    "        observation = tf.expand_dims(observation, [1])\n",
    "        observation = tf.cast(observation, dtype=tf.float32)\n",
    "        new_action, value = self.model.predict_action_value(observation)\n",
    "        return new_action, value, observation\n",
    "\n",
    "    def run(self):\n",
    "        # Training loop: collect samples, send to optimizer, repeat episodes times.\n",
    "        self.training_history = []\n",
    "        for episode in tqdm(range(self.episodes)):\n",
    "            actions, rewards, values, observations = self.run_episode()\n",
    "            self.training_history.append(np.sum(rewards))\n",
    "\n",
    "            logging.info(\"Episode: %03d, Reward: %03d\" % (len(self.training_history) - 1, self.training_history[-1]))\n",
    "            \n",
    "            # `next_value` is the bootstrap value estimate of the future state (critic).\n",
    "            _, next_value, _ = self._predict(actions[-1], rewards[-1], observations[-1,0,3] + 1)\n",
    "            \n",
    "            returns, advantages = self._returns_advantages(rewards, values, next_value)\n",
    "            observations = tf.cast(observations, dtype=tf.float32)\n",
    "            losses = self.model_global.train(observations, actions, advantages, returns)\n",
    "            self.model.model.set_weights(self.model_global.model.get_weights())\n",
    "            logging.debug(\"[%d/%d] Losses: policy loss %s value loss %s\" % (episode + 1, self.episodes, losses[1], losses[2]))\n",
    "\n",
    "    def run_episode(self, env=None):\n",
    "        env = env or self.env\n",
    "\n",
    "        env.reset()\n",
    "        # Storage helpers for a single batch of data.\n",
    "        actions = np.empty((env.n_timesteps,), dtype=np.int32)\n",
    "        rewards, values = np.empty((2, env.n_timesteps))\n",
    "        observations = np.empty((self.env.n_timesteps, 1, 4))\n",
    "        \n",
    "        self.model.model.reset_states()\n",
    "        action, reward, timestep, done, step = 0, 0, 0, 0, 0\n",
    "        while not done:\n",
    "            # action and reward at t - 1 and timestep at t\n",
    "            action, value, observations[step] = self._predict(action, reward, timestep + 1)\n",
    "            reward, done, timestep = env.step(action)\n",
    "            # rewards, values and actions at t\n",
    "            rewards[step] = reward\n",
    "            actions[step] = action\n",
    "            values[step] = value\n",
    "            step += 1\n",
    "        return actions, rewards, values, observations\n",
    "    \n",
    "    def _returns_advantages(self, rewards, values, next_value):\n",
    "        # `next_value` is the bootstrap value estimate of the future state (critic).\n",
    "        returns = np.append(np.zeros_like(rewards), next_value, axis=-1)\n",
    "        # Returns are calculated as discounted sum of future rewards.\n",
    "        for t in reversed(range(rewards.shape[0])):\n",
    "            returns[t] = rewards[t] + self.gamma * returns[t + 1]\n",
    "        returns = returns[:-1]\n",
    "        # Advantages are equal to returns - baseline (value estimates in our case).\n",
    "        advantages = returns - values\n",
    "        return returns, advantages"
   ]
  },
  {
   "cell_type": "code",
   "execution_count": 13,
   "metadata": {},
   "outputs": [
    {
     "name": "stdout",
     "output_type": "stream",
     "text": [
      "44.0\n"
     ]
    }
   ],
   "source": [
    "# logging.getLogger().setLevel(logging.INFO)\n",
    "# logging.getLogger().setLevel(logging.DEBUG)\n",
    "logging.getLogger().setLevel(logging.WARNING)\n",
    "\n",
    "master = Master(Model, 'easy', 20, 1000)\n",
    "\n",
    "_, rewards, _, _ = master.run_episode()\n",
    "print(sum(rewards))"
   ]
  },
  {
   "cell_type": "code",
   "execution_count": 14,
   "metadata": {},
   "outputs": [
    {
     "data": {
      "application/vnd.jupyter.widget-view+json": {
       "model_id": "53bc0ad065884468b13fd53782920ce5",
       "version_major": 2,
       "version_minor": 0
      },
      "text/plain": [
       "HBox(children=(FloatProgress(value=0.0, max=1000.0), HTML(value='')))"
      ]
     },
     "metadata": {},
     "output_type": "display_data"
    },
    {
     "data": {
      "application/vnd.jupyter.widget-view+json": {
       "model_id": "7c0d2e34a30246b384be452e4615b076",
       "version_major": 2,
       "version_minor": 0
      },
      "text/plain": [
       "HBox(children=(FloatProgress(value=0.0, max=1000.0), HTML(value='')))"
      ]
     },
     "metadata": {},
     "output_type": "display_data"
    },
    {
     "data": {
      "application/vnd.jupyter.widget-view+json": {
       "model_id": "b2f37eceac7b44e6a7b47ddc7a6794b5",
       "version_major": 2,
       "version_minor": 0
      },
      "text/plain": [
       "HBox(children=(FloatProgress(value=0.0, max=1000.0), HTML(value='')))"
      ]
     },
     "metadata": {},
     "output_type": "display_data"
    },
    {
     "data": {
      "application/vnd.jupyter.widget-view+json": {
       "model_id": "e2c4e0c0b5914c45ae31d7ee063bf6c6",
       "version_major": 2,
       "version_minor": 0
      },
      "text/plain": [
       "HBox(children=(FloatProgress(value=0.0, max=1000.0), HTML(value='')))"
      ]
     },
     "metadata": {},
     "output_type": "display_data"
    },
    {
     "data": {
      "application/vnd.jupyter.widget-view+json": {
       "model_id": "b982bf71dce84d019eee099d616efe62",
       "version_major": 2,
       "version_minor": 0
      },
      "text/plain": [
       "HBox(children=(FloatProgress(value=0.0, max=1000.0), HTML(value='')))"
      ]
     },
     "metadata": {},
     "output_type": "display_data"
    },
    {
     "data": {
      "application/vnd.jupyter.widget-view+json": {
       "model_id": "2eb1f855052a484bbfe049f74e97668f",
       "version_major": 2,
       "version_minor": 0
      },
      "text/plain": [
       "HBox(children=(FloatProgress(value=0.0, max=1000.0), HTML(value='')))"
      ]
     },
     "metadata": {},
     "output_type": "display_data"
    },
    {
     "data": {
      "application/vnd.jupyter.widget-view+json": {
       "model_id": "5d8dd1623b3b468aab8f0c9652e24d30",
       "version_major": 2,
       "version_minor": 0
      },
      "text/plain": [
       "HBox(children=(FloatProgress(value=0.0, max=1000.0), HTML(value='')))"
      ]
     },
     "metadata": {},
     "output_type": "display_data"
    },
    {
     "data": {
      "application/vnd.jupyter.widget-view+json": {
       "model_id": "b4dea2dfac344a22939dc6976b91293a",
       "version_major": 2,
       "version_minor": 0
      },
      "text/plain": [
       "HBox(children=(FloatProgress(value=0.0, max=1000.0), HTML(value='')))"
      ]
     },
     "metadata": {},
     "output_type": "display_data"
    },
    {
     "data": {
      "application/vnd.jupyter.widget-view+json": {
       "model_id": "11bb5902347d4f6882045531ecefbbe3",
       "version_major": 2,
       "version_minor": 0
      },
      "text/plain": [
       "HBox(children=(FloatProgress(value=0.0, max=1000.0), HTML(value='')))"
      ]
     },
     "metadata": {},
     "output_type": "display_data"
    },
    {
     "data": {
      "application/vnd.jupyter.widget-view+json": {
       "model_id": "401744dcf4f6489485ac2cc3bcac41bb",
       "version_major": 2,
       "version_minor": 0
      },
      "text/plain": [
       "HBox(children=(FloatProgress(value=0.0, max=1000.0), HTML(value='')))"
      ]
     },
     "metadata": {},
     "output_type": "display_data"
    },
    {
     "data": {
      "application/vnd.jupyter.widget-view+json": {
       "model_id": "b0268c76900548c2ab96aec1b74fb9d7",
       "version_major": 2,
       "version_minor": 0
      },
      "text/plain": [
       "HBox(children=(FloatProgress(value=0.0, max=1000.0), HTML(value='')))"
      ]
     },
     "metadata": {},
     "output_type": "display_data"
    },
    {
     "data": {
      "application/vnd.jupyter.widget-view+json": {
       "model_id": "51857d9b513844b3ae809daa49139f43",
       "version_major": 2,
       "version_minor": 0
      },
      "text/plain": [
       "HBox(children=(FloatProgress(value=0.0, max=1000.0), HTML(value='')))"
      ]
     },
     "metadata": {},
     "output_type": "display_data"
    },
    {
     "data": {
      "application/vnd.jupyter.widget-view+json": {
       "model_id": "35457e2b323f4b4982fbc0c54437db23",
       "version_major": 2,
       "version_minor": 0
      },
      "text/plain": [
       "HBox(children=(FloatProgress(value=0.0, max=1000.0), HTML(value='')))"
      ]
     },
     "metadata": {},
     "output_type": "display_data"
    },
    {
     "data": {
      "application/vnd.jupyter.widget-view+json": {
       "model_id": "d28acc07e49b490fa4152fd5d02a309e",
       "version_major": 2,
       "version_minor": 0
      },
      "text/plain": [
       "HBox(children=(FloatProgress(value=0.0, max=1000.0), HTML(value='')))"
      ]
     },
     "metadata": {},
     "output_type": "display_data"
    },
    {
     "data": {
      "application/vnd.jupyter.widget-view+json": {
       "model_id": "f7b46a5d4dfa460198048cd59839f289",
       "version_major": 2,
       "version_minor": 0
      },
      "text/plain": [
       "HBox(children=(FloatProgress(value=0.0, max=1000.0), HTML(value='')))"
      ]
     },
     "metadata": {},
     "output_type": "display_data"
    },
    {
     "data": {
      "application/vnd.jupyter.widget-view+json": {
       "model_id": "ee3a0c13de484918920350ed5a17d4a5",
       "version_major": 2,
       "version_minor": 0
      },
      "text/plain": [
       "HBox(children=(FloatProgress(value=0.0, max=1000.0), HTML(value='')))"
      ]
     },
     "metadata": {},
     "output_type": "display_data"
    },
    {
     "data": {
      "application/vnd.jupyter.widget-view+json": {
       "model_id": "e1396c4217cc4991b28c5467ea6f7cbb",
       "version_major": 2,
       "version_minor": 0
      },
      "text/plain": [
       "HBox(children=(FloatProgress(value=0.0, max=1000.0), HTML(value='')))"
      ]
     },
     "metadata": {},
     "output_type": "display_data"
    },
    {
     "data": {
      "application/vnd.jupyter.widget-view+json": {
       "model_id": "5247b2640b124c75a3531824eb16a339",
       "version_major": 2,
       "version_minor": 0
      },
      "text/plain": [
       "HBox(children=(FloatProgress(value=0.0, max=1000.0), HTML(value='')))"
      ]
     },
     "metadata": {},
     "output_type": "display_data"
    },
    {
     "data": {
      "application/vnd.jupyter.widget-view+json": {
       "model_id": "41c93e50c823469588982ea2620d6284",
       "version_major": 2,
       "version_minor": 0
      },
      "text/plain": [
       "HBox(children=(FloatProgress(value=0.0, max=1000.0), HTML(value='')))"
      ]
     },
     "metadata": {},
     "output_type": "display_data"
    },
    {
     "data": {
      "application/vnd.jupyter.widget-view+json": {
       "model_id": "a02c71d9914f4a3b9c8338a06760062c",
       "version_major": 2,
       "version_minor": 0
      },
      "text/plain": [
       "HBox(children=(FloatProgress(value=0.0, max=1000.0), HTML(value='')))"
      ]
     },
     "metadata": {},
     "output_type": "display_data"
    },
    {
     "name": "stdout",
     "output_type": "stream",
     "text": [
      "\n",
      "\n",
      "\n",
      "\n",
      "\n",
      "\n",
      "\n",
      "\n",
      "\n",
      "\n",
      "\n",
      "\n",
      "\n",
      "\n",
      "\n",
      "\n",
      "\n",
      "\n",
      "\n",
      "\n"
     ]
    }
   ],
   "source": [
    "master.train()"
   ]
  },
  {
   "cell_type": "code",
   "execution_count": 16,
   "metadata": {},
   "outputs": [
    {
     "name": "stdout",
     "output_type": "stream",
     "text": [
      "Finished training! Testing...\n",
      "Total Episode Reward: 66 out of 100\n"
     ]
    },
    {
     "data": {
      "text/plain": [
       "Text(0, 0.5, 'Total Reward')"
      ]
     },
     "execution_count": 16,
     "metadata": {},
     "output_type": "execute_result"
    },
    {
     "data": {
      "image/png": "[encoded data removed]",
      "text/plain": [
       "<Figure size 576x396 with 1 Axes>"
      ]
     },
     "metadata": {},
     "output_type": "display_data"
    }
   ],
   "source": [
    "agent_rewards_history = master.agents[0].training_history\n",
    "print(\"Finished training! Testing...\")\n",
    "_, rewards, _, _ = master.run_episode()\n",
    "print(\"Total Episode Reward: %d out of 100\" % sum(rewards))\n",
    "\n",
    "plt.style.use('seaborn')\n",
    "plt.plot(np.arange(len(agent_rewards_history)), agent_rewards_history)\n",
    "plt.xlabel('Episode')\n",
    "plt.ylabel('Total Reward')"
   ]
  },
  {
   "cell_type": "code",
   "execution_count": 21,
   "metadata": {},
   "outputs": [],
   "source": [
    "class Benchmark:\n",
    "    def __init__(self, agent, env_name=None, n_episodes=300):\n",
    "        self.agent = agent\n",
    "        self.env_name = env_name or agent.env_name\n",
    "        self.env = dependent_bandit(self.env_name)\n",
    "        self.n_episodes = n_episodes\n",
    "    \n",
    "    def evaluate(self):\n",
    "        rewards = np.empty((self.n_episodes, env.n_timesteps))\n",
    "        actions = np.empty((self.n_episodes, env.n_timesteps))\n",
    "        values = np.empty((self.n_episodes, env.n_timesteps))\n",
    "        bandits = np.empty((self.n_episodes, 2))\n",
    "        for episode in tqdm(range(self.n_episodes)):\n",
    "            actions[episode], rewards[episode], values[episode], _ = self.agent.run_episode(self.env)\n",
    "            bandits[episode] = self.env.bandit\n",
    "        self.episodes = {\n",
    "            'rewards': rewards,\n",
    "            'actions': actions,\n",
    "            'values': values,\n",
    "            'bandits': bandits\n",
    "        }\n",
    "            \n",
    "    def hist(self):\n",
    "        if not hasattr(self, 'episodes'):\n",
    "            self.evaluate()\n",
    "        plt.hist(self.episodes['rewards'].sum(1) / (self.env.bandit.max() * 100))\n",
    "        \n",
    "    def plot_cumulative_regret(self):\n",
    "        if not hasattr(self, 'episodes'):\n",
    "            self.evaluate()\n",
    "        if self.env.difficulty == 'uniform':\n",
    "            raise NotImplementedError\n",
    "        regret = self.env.bandit.max() - self.episodes['rewards'].mean(0)\n",
    "        plt.plot(np.cumsum(regret))\n",
    "        \n",
    "    def plot_rewards(self):\n",
    "        import matplotlib.patches as mpatches\n",
    "        if not hasattr(self, 'episodes'):\n",
    "            self.evaluate()\n",
    "\n",
    "        im = plt.imshow(self.episodes['rewards'], cmap='binary', origin='lower', interpolation='nearest')\n",
    "        \n",
    "#         patches = [mpatches.Patch(color=im.cmap(im.norm(0)), label=\"Sub-optimal choice\")]\n",
    "#         plt.legend(handles=patches, )\n",
    "        \n",
    "        plt.gca().set_aspect('auto')\n",
    "        plt.grid(False)\n",
    "    \n",
    "    def plot_actions(self):\n",
    "        import matplotlib.patches as mpatches\n",
    "        if not hasattr(self, 'episodes'):\n",
    "            self.evaluate()\n",
    "        actions_optimal = np.empty_like(self.episodes['actions'])\n",
    "        _itr = zip(self.episodes['actions'], np.argmax(self.episodes['bandits'], 1))\n",
    "        \n",
    "        for i, (actions_episode, optimal_choice) in enumerate(_itr):\n",
    "            actions_optimal[i] = actions_episode == optimal_choice\n",
    "\n",
    "        im = plt.imshow(actions_optimal, cmap='Greens_r', origin='lower', interpolation='nearest')\n",
    "        \n",
    "        patches = [mpatches.Patch(color=im.cmap(im.norm(0)), label=\"Sub-optimal choice\")]\n",
    "        plt.legend(handles=patches, )\n",
    "        \n",
    "        plt.gca().set_aspect('auto')\n",
    "        plt.grid(False)"
   ]
  },
  {
   "cell_type": "code",
   "execution_count": 22,
   "metadata": {},
   "outputs": [
    {
     "data": {
      "application/vnd.jupyter.widget-view+json": {
       "model_id": "fa4711c75302453cbc3c0c56f97714ea",
       "version_major": 2,
       "version_minor": 0
      },
      "text/plain": [
       "HBox(children=(FloatProgress(value=0.0, max=300.0), HTML(value='')))"
      ]
     },
     "metadata": {},
     "output_type": "display_data"
    },
    {
     "name": "stdout",
     "output_type": "stream",
     "text": [
      "\n"
     ]
    }
   ],
   "source": [
    "b = Benchmark(master, 'easy')\n",
    "b.evaluate()"
   ]
  },
  {
   "cell_type": "code",
   "execution_count": 24,
   "metadata": {},
   "outputs": [
    {
     "data": {
      "image/png": "[encoded data removed]",
      "text/plain": [
       "<Figure size 576x396 with 1 Axes>"
      ]
     },
     "metadata": {},
     "output_type": "display_data"
    },
    {
     "data": {
      "image/png": "[encoded data removed]",
      "text/plain": [
       "<Figure size 576x396 with 1 Axes>"
      ]
     },
     "metadata": {},
     "output_type": "display_data"
    }
   ],
   "source": [
    "b.plot_actions()\n",
    "plt.figure()\n",
    "b.plot_cumulative_regret()"
   ]
  },
  {
   "cell_type": "code",
   "execution_count": null,
   "metadata": {},
   "outputs": [],
   "source": []
  }
 ],
 "metadata": {
  "kernelspec": {
   "display_name": "Python 3",
   "language": "python",
   "name": "python3"
  },
  "language_info": {
   "codemirror_mode": {
    "name": "ipython",
    "version": 3
   },
   "file_extension": ".py",
   "mimetype": "text/x-python",
   "name": "python",
   "nbconvert_exporter": "python",
   "pygments_lexer": "ipython3",
   "version": "3.6.9"
  }
 },
 "nbformat": 4,
 "nbformat_minor": 4
}
