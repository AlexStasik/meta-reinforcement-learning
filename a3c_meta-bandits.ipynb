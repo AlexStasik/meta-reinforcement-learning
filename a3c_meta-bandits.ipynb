{
 "cells": [
  {
   "cell_type": "code",
   "execution_count": 1,
   "metadata": {},
   "outputs": [
    {
     "name": "stdout",
     "output_type": "stream",
     "text": [
      "TensorFlow Ver:  2.1.0\n"
     ]
    }
   ],
   "source": [
    "import threading\n",
    "import multiprocessing\n",
    "import logging\n",
    "import numpy as np\n",
    "import tensorflow as tf\n",
    "import matplotlib.pyplot as plt\n",
    "import tensorflow.keras.layers as kl\n",
    "import tensorflow.keras.losses as kls\n",
    "import tensorflow.keras.optimizers as ko\n",
    "from tqdm.notebook import tqdm\n",
    "%matplotlib inline\n",
    "\n",
    "print(\"TensorFlow Ver: \", tf.__version__)"
   ]
  },
  {
   "cell_type": "code",
   "execution_count": 2,
   "metadata": {},
   "outputs": [],
   "source": [
    "seed = 1234\n",
    "tf.random.set_seed(seed)\n",
    "np.random.seed(seed)"
   ]
  },
  {
   "cell_type": "code",
   "execution_count": 3,
   "metadata": {},
   "outputs": [],
   "source": [
    "import os\n",
    "os.environ[\"CUDA_DEVICE_ORDER\"]=\"PCI_BUS_ID\"\n",
    "os.environ[\"CUDA_VISIBLE_DEVICES\"]=\"2\""
   ]
  },
  {
   "cell_type": "code",
   "execution_count": 4,
   "metadata": {},
   "outputs": [
    {
     "name": "stdout",
     "output_type": "stream",
     "text": [
      "Eager Execution: True\n",
      "1 + 2 + 3 + 4 + 5 = tf.Tensor(15, shape=(), dtype=int32)\n"
     ]
    }
   ],
   "source": [
    "# Eager by default!\n",
    "print(\"Eager Execution:\", tf.executing_eagerly())\n",
    "print(\"1 + 2 + 3 + 4 + 5 =\", tf.reduce_sum([1, 2, 3, 4, 5]))"
   ]
  },
  {
   "cell_type": "code",
   "execution_count": 5,
   "metadata": {},
   "outputs": [],
   "source": [
    "class dependent_bandit():\n",
    "    def __init__(self, difficulty):\n",
    "        self.num_actions = 2\n",
    "        self.n_timesteps = 100\n",
    "        self.difficulty = difficulty\n",
    "        self.reset()\n",
    "        \n",
    "    def set_restless_prob(self):\n",
    "        self.bandit = np.array([self.restless_list[self.timestep],1 - self.restless_list[self.timestep]])\n",
    "        \n",
    "    def reset(self):\n",
    "        self.timestep = 0\n",
    "        if self.difficulty == 'restless': \n",
    "            variance = np.random.uniform(0,.5)\n",
    "            self.restless_list = np.cumsum(np.random.uniform(-variance,variance,(150,1)))\n",
    "            self.restless_list = (self.restless_list - np.min(self.restless_list)) / (np.max(self.restless_list - np.min(self.restless_list))) \n",
    "            self.set_restless_prob()\n",
    "        if self.difficulty == 'easy': \n",
    "            bandit_prob = np.random.choice([0.9,0.1])\n",
    "        if self.difficulty == 'trivial': \n",
    "            bandit_prob = np.random.choice([1.0,0.0])\n",
    "        if self.difficulty == 'medium': \n",
    "            bandit_prob = np.random.choice([0.75,0.25])\n",
    "        if self.difficulty == 'hard': \n",
    "            bandit_prob = np.random.choice([0.6,0.4])\n",
    "        if self.difficulty == 'uniform': \n",
    "            bandit_prob = np.random.uniform()\n",
    "        if self.difficulty != 'independent' and self.difficulty != 'restless':\n",
    "            self.bandit = np.array([bandit_prob,1 - bandit_prob])\n",
    "        else:\n",
    "            self.bandit = np.random.uniform(size=2)\n",
    "        \n",
    "    def step(self,action):\n",
    "        #Get a random number.\n",
    "        if self.difficulty == 'restless': \n",
    "            self.set_restless_prob()\n",
    "        self.timestep += 1\n",
    "        bandit = self.bandit[action]\n",
    "        result = np.random.uniform()\n",
    "        if result < bandit:\n",
    "            #return a positive reward.\n",
    "            reward = 1\n",
    "        else:\n",
    "            #return a negative reward.\n",
    "            reward = 0\n",
    "        if self.timestep > self.n_timesteps - 1: \n",
    "            done = True\n",
    "        else: \n",
    "            done = False\n",
    "        return reward, done, self.timestep"
   ]
  },
  {
   "cell_type": "code",
   "execution_count": 6,
   "metadata": {},
   "outputs": [],
   "source": [
    "bandit = dependent_bandit('uniform')"
   ]
  },
  {
   "cell_type": "code",
   "execution_count": 7,
   "metadata": {},
   "outputs": [],
   "source": [
    "bandit.reset()"
   ]
  },
  {
   "cell_type": "code",
   "execution_count": 8,
   "metadata": {},
   "outputs": [
    {
     "data": {
      "text/plain": [
       "(1, False, 1)"
      ]
     },
     "execution_count": 8,
     "metadata": {},
     "output_type": "execute_result"
    }
   ],
   "source": [
    "bandit.step(0)"
   ]
  },
  {
   "cell_type": "code",
   "execution_count": 9,
   "metadata": {},
   "outputs": [],
   "source": [
    "class Model(tf.keras.Model):\n",
    "    def __init__(self, num_actions, batch_size=1, n_timesteps=None, n_features=4, name='meta_policy'):\n",
    "        super().__init__(name)\n",
    "#         Having a stateful LSTM means that you will need to reset the hidden state \n",
    "#         in between batches yourself if you do want independent batches. \n",
    "#         The default initial hidden state in Tensorflow is all zeros.\n",
    "        self.lstm = kl.LSTM(\n",
    "            48, name='hidden', \n",
    "            stateful=True, \n",
    "            time_major=True, # ['time', 'batch', 'features']\n",
    "            return_sequences=True, \n",
    "            recurrent_initializer='zeros'\n",
    "        )\n",
    "        self.lstm.build((n_timesteps, batch_size, n_features)) # set batch size, must be done with stateful lstm\n",
    "        self.policy = kl.Dense(num_actions, name='policy', activation='softmax')\n",
    "        self.value = kl.Dense(1, name='value')\n",
    "\n",
    "    def call(self, inputs, **kwargs):\n",
    "        inputs = tf.cast(inputs, dtype=tf.float32)\n",
    "        output = self.lstm(inputs)\n",
    "        return self.policy(output), self.value(output)\n",
    "\n",
    "    def predict_action_value(self, obs):\n",
    "        # Executes `call()` under the hood.\n",
    "        policy, value = self.predict_on_batch(obs)\n",
    "        policy = np.squeeze(policy, 1)\n",
    "#         print(policy)\n",
    "        actions = np.empty(policy.shape[0], dtype=np.int32)\n",
    "        for i, p in enumerate(policy):\n",
    "            action = np.random.choice(p, p=p)\n",
    "            actions[i] = np.argmax(p == action)\n",
    "        return actions, np.squeeze(value, (1, 2))"
   ]
  },
  {
   "cell_type": "code",
   "execution_count": 33,
   "metadata": {},
   "outputs": [],
   "source": [
    "class Master:\n",
    "    def __init__(self, model, env_name, n_agents=None, n_episodes=250, lr=7e-4, gamma=0.8, value_c=0.05, entropy_c=0.05, name=None):\n",
    "        # `gamma` is the discount factor; coefficients are used for the loss terms.\n",
    "        n_agents = n_agents or multiprocessing.cpu_count()\n",
    "        self.value_c = value_c\n",
    "        self.entropy_c = entropy_c\n",
    "        self.env_name = env_name\n",
    "        self.env = dependent_bandit(env_name)\n",
    "        self.name = name or 'a3c_agent_env_' + env_name\n",
    "        self.model = model(self.env.num_actions, name=self.name)\n",
    "        # Define separate losses for policy logits and value estimate.\n",
    "        loss = [self._policy_loss, self._value_loss]\n",
    "        self.model.compile(optimizer=ko.Adam(lr=lr), loss=loss)\n",
    "        self.agents = [\n",
    "            Agent(\n",
    "                model=model, \n",
    "                model_global=self.model, \n",
    "                env_name=env_name, \n",
    "                gamma=gamma, \n",
    "                episodes=n_episodes,\n",
    "                name=f\"agent_{i}\"\n",
    "            ) \n",
    "            for i in range(n_agents)\n",
    "        ]\n",
    "    \n",
    "    def train(self):\n",
    "        for agent in self.agents:\n",
    "            episode_rewards = agent.start()\n",
    "            \n",
    "        for agent in self.agents:\n",
    "            agent.join()\n",
    "    \n",
    "    def _predict(self, action, reward, timestep):\n",
    "        action = np.squeeze(action)\n",
    "        action_onehot = tf.one_hot(action, self.env.num_actions)\n",
    "        observation = tf.concat([\n",
    "            [[reward]], \n",
    "            [action_onehot],\n",
    "            [[timestep]]], 1)\n",
    "        observation = tf.expand_dims(observation, [1])\n",
    "        observation = tf.cast(observation, dtype=tf.float32)\n",
    "        new_action, value = self.model.predict_action_value(observation)\n",
    "        return new_action, value, observation\n",
    "        \n",
    "    def test(self, env=None):\n",
    "        env = env or self.env\n",
    "        env.reset()\n",
    "        action, reward, timestep, ep_reward, done = 0, 0, 0, 0, 0\n",
    "        while not done:\n",
    "            action, value, _ = self._predict(action, reward, timestep + 1)\n",
    "            reward, done, timestep = env.step(action)\n",
    "            ep_reward += reward\n",
    "        return ep_reward\n",
    "        \n",
    "    def _value_loss(self, target_v, value):\n",
    "        # Value loss is typically MSE between value estimates and returns.\n",
    "        loss = kls.mean_squared_error(target_v, value)\n",
    "        return self.value_c * loss\n",
    "\n",
    "    def _policy_loss(self, actions_and_advantages, policy):\n",
    "        # A trick to input actions and advantages through the same API.\n",
    "        actions, advantages = tf.split(actions_and_advantages, 2, axis=-1)\n",
    "        actions_onehot = tf.one_hot(tf.cast(actions, tf.int32), self.env.num_actions, dtype=tf.float32)\n",
    "\n",
    "        responsible_policies = tf.reduce_sum(policy * actions_onehot, [1])\n",
    "#         tf.keras.backend.print_tensor(policy)\n",
    "        entropy = - tf.reduce_sum(policy * tf.math.log(policy + 1e-7))\n",
    "        policy_loss = - tf.reduce_sum(advantages * tf.math.log(responsible_policies + 1e-7))\n",
    "        loss = policy_loss - entropy * self.entropy_c\n",
    "        return loss"
   ]
  },
  {
   "cell_type": "code",
   "execution_count": 43,
   "metadata": {},
   "outputs": [],
   "source": [
    "class Agent(threading.Thread):\n",
    "    def __init__(self, model, model_global, env_name, gamma, episodes, name):\n",
    "        super(Agent, self).__init__()\n",
    "        self.episodes = episodes\n",
    "        self.name = name\n",
    "        self.env = dependent_bandit(env_name)\n",
    "        self.model = model(self.env.num_actions, name=self.name)\n",
    "        self.model_global = model_global\n",
    "        self.gamma = gamma\n",
    "        self.model.set_weights(self.model_global.get_weights())\n",
    "        \n",
    "    def _predict(self, action, reward, timestep):\n",
    "        action = np.squeeze(action)\n",
    "        action_onehot = tf.one_hot(action, self.env.num_actions)\n",
    "        observation = tf.concat([\n",
    "            [[reward]], \n",
    "            [action_onehot],\n",
    "            [[timestep]]], 1)\n",
    "        observation = tf.expand_dims(observation, [1])\n",
    "        observation = tf.cast(observation, dtype=tf.float32)\n",
    "        new_action, value = self.model.predict_action_value(observation)\n",
    "        return new_action, value, observation\n",
    "\n",
    "    def run(self):\n",
    "        # Training loop: collect samples, send to optimizer, repeat episodes times.\n",
    "        self.ep_rewards = []\n",
    "        for episode in tqdm(range(self.episodes)):\n",
    "            actions, rewards, values, observations = self.run_episode()\n",
    "            self.ep_rewards.append(np.sum(rewards))\n",
    "\n",
    "            logging.info(\"Episode: %03d, Reward: %03d\" % (len(self.ep_rewards) - 1, self.ep_rewards[-1]))\n",
    "            \n",
    "            # `next_value` is the bootstrap value estimate of the future state (critic).\n",
    "            _, next_value, _ = self._predict(actions[-1], rewards[-1], observations[-1,0,3] + 1)\n",
    "            \n",
    "            returns, advantages = self._returns_advantages(rewards, values, next_value)\n",
    "            # A trick to input actions and advantages through same API.\n",
    "            actions_advantages = np.concatenate([actions[:, None], advantages[:, None]], axis=1)\n",
    "            \n",
    "            losses = self.model_global.train_on_batch(observations, [actions_advantages, returns])\n",
    "            self.model.set_weights(self.model_global.get_weights())\n",
    "            logging.debug(\"[%d/%d] Losses: policy loss %s value loss %s\" % (episode + 1, self.episodes, losses[1], losses[2]))\n",
    "\n",
    "    def run_episode(self, env=None):\n",
    "        env = env or self.env\n",
    "\n",
    "        env.reset()\n",
    "        # Storage helpers for a single batch of data.\n",
    "        actions = np.empty((env.n_timesteps,), dtype=np.int32)\n",
    "        rewards, values = np.empty((2, env.n_timesteps))\n",
    "        observations = np.empty((self.env.n_timesteps, 1, 4))\n",
    "        \n",
    "        self.model.reset_states()\n",
    "        action, reward, timestep, done, step = 0, 0, 0, 0, 0\n",
    "        while not done:\n",
    "            # action and reward at t - 1 and timestep at t\n",
    "            action, value, observations[step] = self._predict(action, reward, timestep + 1)\n",
    "            reward, done, timestep = env.step(action)\n",
    "            # rewards, values and actions at t\n",
    "            rewards[step] = reward\n",
    "            actions[step] = action\n",
    "            values[step] = value\n",
    "            step += 1\n",
    "        return actions, rewards, values, observations\n",
    "    \n",
    "    def _returns_advantages(self, rewards, values, next_value):\n",
    "        # `next_value` is the bootstrap value estimate of the future state (critic).\n",
    "        returns = np.append(np.zeros_like(rewards), next_value, axis=-1)\n",
    "        # Returns are calculated as discounted sum of future rewards.\n",
    "        for t in reversed(range(rewards.shape[0])):\n",
    "            returns[t] = rewards[t] + self.gamma * returns[t + 1]\n",
    "        returns = returns[:-1]\n",
    "        # Advantages are equal to returns - baseline (value estimates in our case).\n",
    "        advantages = returns - values\n",
    "        return returns, advantages"
   ]
  },
  {
   "cell_type": "code",
   "execution_count": 49,
   "metadata": {},
   "outputs": [
    {
     "data": {
      "text/plain": [
       "17"
      ]
     },
     "execution_count": 49,
     "metadata": {},
     "output_type": "execute_result"
    }
   ],
   "source": [
    "# logging.getLogger().setLevel(logging.INFO)\n",
    "# logging.getLogger().setLevel(logging.DEBUG)\n",
    "logging.getLogger().setLevel(logging.WARNING)\n",
    "\n",
    "master = Master(Model, 'easy', 2, 100)\n",
    "\n",
    "master.test()"
   ]
  },
  {
   "cell_type": "code",
   "execution_count": 50,
   "metadata": {},
   "outputs": [
    {
     "data": {
      "application/vnd.jupyter.widget-view+json": {
       "model_id": "3b54f9c4870e43bca73dc2c2029e90b2",
       "version_major": 2,
       "version_minor": 0
      },
      "text/plain": [
       "HBox(children=(FloatProgress(value=0.0), HTML(value='')))"
      ]
     },
     "metadata": {},
     "output_type": "display_data"
    },
    {
     "data": {
      "application/vnd.jupyter.widget-view+json": {
       "model_id": "05876e05992b41cfba7a0044d1917224",
       "version_major": 2,
       "version_minor": 0
      },
      "text/plain": [
       "HBox(children=(FloatProgress(value=0.0), HTML(value='')))"
      ]
     },
     "metadata": {},
     "output_type": "display_data"
    },
    {
     "name": "stdout",
     "output_type": "stream",
     "text": [
      "\n"
     ]
    },
    {
     "name": "stderr",
     "output_type": "stream",
     "text": [
      "Exception in thread agent_1:\n",
      "Traceback (most recent call last):\n",
      "  File \"/usr/lib/python3.6/threading.py\", line 916, in _bootstrap_inner\n",
      "    self.run()\n",
      "  File \"<ipython-input-43-b92a09446d54>\", line 28, in run\n",
      "    actions, rewards, values, observations = self.run_episode()\n",
      "  File \"<ipython-input-43-b92a09446d54>\", line 59, in run_episode\n",
      "    action, value, observations[step] = self._predict(action, reward, timestep + 1)\n",
      "  File \"<ipython-input-43-b92a09446d54>\", line 21, in _predict\n",
      "    new_action, value = self.model.predict_action_value(observation)\n",
      "  File \"<ipython-input-9-c2d2aaabd0a6>\", line 25, in predict_action_value\n",
      "    policy, value = self.predict_on_batch(obs)\n",
      "  File \"/usr/local/lib/python3.6/dist-packages/tensorflow_core/python/keras/engine/training.py\", line 1240, in predict_on_batch\n",
      "    return training_v2_utils.predict_on_batch(self, x, standalone=True)\n",
      "  File \"/usr/local/lib/python3.6/dist-packages/tensorflow_core/python/keras/engine/training_v2_utils.py\", line 539, in predict_on_batch\n",
      "    x, extract_tensors_from_dataset=True)\n",
      "  File \"/usr/local/lib/python3.6/dist-packages/tensorflow_core/python/keras/engine/training.py\", line 2346, in _standardize_user_data\n",
      "    all_inputs, y_input, dict_inputs = self._build_model_with_inputs(x, y)\n",
      "  File \"/usr/local/lib/python3.6/dist-packages/tensorflow_core/python/keras/engine/training.py\", line 2572, in _build_model_with_inputs\n",
      "    self._set_inputs(cast_inputs)\n",
      "  File \"/usr/local/lib/python3.6/dist-packages/tensorflow_core/python/keras/engine/training.py\", line 2659, in _set_inputs\n",
      "    outputs = self(inputs, **kwargs)\n",
      "  File \"/usr/local/lib/python3.6/dist-packages/tensorflow_core/python/keras/engine/base_layer.py\", line 773, in __call__\n",
      "    outputs = call_fn(cast_inputs, *args, **kwargs)\n",
      "  File \"/usr/local/lib/python3.6/dist-packages/tensorflow_core/python/autograph/impl/api.py\", line 237, in wrapper\n",
      "    raise e.ag_error_metadata.to_exception(e)\n",
      "AssertionError: in converted code:\n",
      "\n",
      "    <ipython-input-9-c2d2aaabd0a6>:20 call  *\n",
      "        output = self.lstm(inputs)\n",
      "    /usr/local/lib/python3.6/dist-packages/tensorflow_core/python/keras/layers/recurrent.py:644 __call__\n",
      "        return super(RNN, self).__call__(inputs, **kwargs)\n",
      "    /usr/local/lib/python3.6/dist-packages/tensorflow_core/python/keras/engine/base_layer.py:773 __call__\n",
      "        outputs = call_fn(cast_inputs, *args, **kwargs)\n",
      "    /usr/local/lib/python3.6/dist-packages/tensorflow_core/python/keras/layers/recurrent_v2.py:1150 call\n",
      "        runtime) = lstm_with_backend_selection(**normal_lstm_kwargs)\n",
      "    /usr/local/lib/python3.6/dist-packages/tensorflow_core/python/keras/layers/recurrent_v2.py:1510 lstm_with_backend_selection\n",
      "        **params)\n",
      "    /usr/local/lib/python3.6/dist-packages/tensorflow_core/python/eager/function.py:2363 __call__\n",
      "        return graph_function._filtered_call(args, kwargs)  # pylint: disable=protected-access\n",
      "    /usr/local/lib/python3.6/dist-packages/tensorflow_core/python/eager/function.py:1611 _filtered_call\n",
      "        self.captured_inputs)\n",
      "    /usr/local/lib/python3.6/dist-packages/tensorflow_core/python/eager/function.py:1705 _call_flat\n",
      "        \"StatefulPartitionedCall\": self._get_gradient_function()}):\n",
      "    /usr/lib/python3.6/contextlib.py:81 __enter__\n",
      "        return next(self.gen)\n",
      "    /usr/local/lib/python3.6/dist-packages/tensorflow_core/python/framework/ops.py:4727 _override_gradient_function\n",
      "        assert not self._gradient_function_map\n",
      "\n",
      "    AssertionError: \n",
      "\n",
      "\n"
     ]
    },
    {
     "name": "stdout",
     "output_type": "stream",
     "text": [
      "\n"
     ]
    }
   ],
   "source": [
    "master.train()"
   ]
  },
  {
   "cell_type": "code",
   "execution_count": 48,
   "metadata": {},
   "outputs": [
    {
     "data": {
      "text/plain": [
       "[<matplotlib.lines.Line2D at 0x7f67c4379b00>]"
      ]
     },
     "execution_count": 48,
     "metadata": {},
     "output_type": "execute_result"
    },
    {
     "data": {
      "image/png": "[encoded data removed]",
      "text/plain": [
       "<Figure size 576x396 with 1 Axes>"
      ]
     },
     "metadata": {},
     "output_type": "display_data"
    }
   ],
   "source": [
    "plt.plot(master.agents[0].ep_rewards)"
   ]
  },
  {
   "cell_type": "code",
   "execution_count": null,
   "metadata": {},
   "outputs": [],
   "source": [
    "agent_rewards_history = rewards_history[0]\n",
    "print(\"Finished training! Testing...\")\n",
    "print(\"Total Episode Reward: %d out of 100\" % master.test())\n",
    "\n",
    "plt.style.use('seaborn')\n",
    "# plt.plot(np.arange(0, len(rewards_history), 5), rewards_history[::5])\n",
    "plt.plot(np.arange(len(agent_rewards_history)), agent_rewards_history)\n",
    "plt.xlabel('Episode')\n",
    "plt.ylabel('Total Reward')"
   ]
  },
  {
   "cell_type": "code",
   "execution_count": null,
   "metadata": {},
   "outputs": [],
   "source": [
    "n_episodes = 100\n",
    "rewards = []\n",
    "for _ in range(n_episodes):\n",
    "    rewards.append(agent.test())\n",
    "    \n",
    "print('Average reward from trained agent', np.mean(rewards))"
   ]
  },
  {
   "cell_type": "code",
   "execution_count": null,
   "metadata": {},
   "outputs": [],
   "source": [
    "random_agent = Agent(Model, env)\n",
    "\n",
    "n_episodes = 100\n",
    "rewards = []\n",
    "for _ in range(n_episodes):\n",
    "    rewards.append(random_agent.test())\n",
    "    \n",
    "print('Average reward from random agent', np.mean(rewards))"
   ]
  },
  {
   "cell_type": "code",
   "execution_count": null,
   "metadata": {},
   "outputs": [],
   "source": []
  }
 ],
 "metadata": {
  "kernelspec": {
   "display_name": "Python 3",
   "language": "python",
   "name": "python3"
  },
  "language_info": {
   "codemirror_mode": {
    "name": "ipython",
    "version": 3
   },
   "file_extension": ".py",
   "mimetype": "text/x-python",
   "name": "python",
   "nbconvert_exporter": "python",
   "pygments_lexer": "ipython3",
   "version": "3.6.9"
  }
 },
 "nbformat": 4,
 "nbformat_minor": 4
}
