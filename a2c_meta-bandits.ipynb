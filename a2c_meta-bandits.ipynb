{
 "cells": [
  {
   "cell_type": "code",
   "execution_count": 1,
   "metadata": {},
   "outputs": [
    {
     "name": "stdout",
     "output_type": "stream",
     "text": [
      "TensorFlow Ver:  2.1.0\n"
     ]
    }
   ],
   "source": [
    "import logging\n",
    "import numpy as np\n",
    "import tensorflow as tf\n",
    "import matplotlib.pyplot as plt\n",
    "import tensorflow.keras.layers as kl\n",
    "import tensorflow.keras.losses as kls\n",
    "import tensorflow.keras.optimizers as ko\n",
    "from pathlib import Path\n",
    "import ruamel.yaml as yaml\n",
    "from tqdm.notebook import tqdm\n",
    "%matplotlib inline\n",
    "\n",
    "print(\"TensorFlow Ver: \", tf.__version__)"
   ]
  },
  {
   "cell_type": "code",
   "execution_count": 2,
   "metadata": {},
   "outputs": [],
   "source": [
    "seed = 1234\n",
    "tf.random.set_seed(seed)\n",
    "np.random.seed(seed)"
   ]
  },
  {
   "cell_type": "code",
   "execution_count": null,
   "metadata": {},
   "outputs": [],
   "source": [
    "import os\n",
    "os.environ[\"CUDA_DEVICE_ORDER\"]=\"PCI_BUS_ID\"\n",
    "os.environ[\"CUDA_VISIBLE_DEVICES\"]=\"2\""
   ]
  },
  {
   "cell_type": "code",
   "execution_count": null,
   "metadata": {},
   "outputs": [],
   "source": [
    "# Eager by default!\n",
    "print(\"Eager Execution:\", tf.executing_eagerly())\n",
    "print(\"1 + 2 + 3 + 4 + 5 =\", tf.reduce_sum([1, 2, 3, 4, 5]))"
   ]
  },
  {
   "cell_type": "code",
   "execution_count": null,
   "metadata": {},
   "outputs": [],
   "source": [
    "class dependent_bandit():\n",
    "    def __init__(self, difficulty):\n",
    "        self.num_actions = 2\n",
    "        self.n_timesteps = 100\n",
    "        self.difficulty = difficulty\n",
    "        self.reset()\n",
    "        \n",
    "    def set_restless_prob(self):\n",
    "        self.bandit = np.array([self.restless_list[self.timestep],1 - self.restless_list[self.timestep]])\n",
    "        \n",
    "    def reset(self):\n",
    "        self.timestep = 0\n",
    "        if self.difficulty == 'restless': \n",
    "            variance = np.random.uniform(0,.5)\n",
    "            self.restless_list = np.cumsum(np.random.uniform(-variance,variance,(150,1)))\n",
    "            self.restless_list = (self.restless_list - np.min(self.restless_list)) / (np.max(self.restless_list - np.min(self.restless_list))) \n",
    "            self.set_restless_prob()\n",
    "        if self.difficulty == 'easy': \n",
    "            bandit_prob = np.random.choice([0.9,0.1])\n",
    "        if self.difficulty == 'trivial': \n",
    "            bandit_prob = np.random.choice([1.0,0.0])\n",
    "        if self.difficulty == 'medium': \n",
    "            bandit_prob = np.random.choice([0.75,0.25])\n",
    "        if self.difficulty == 'hard': \n",
    "            bandit_prob = np.random.choice([0.6,0.4])\n",
    "        if self.difficulty == 'uniform': \n",
    "            bandit_prob = np.random.uniform()\n",
    "        if self.difficulty != 'independent' and self.difficulty != 'restless':\n",
    "            self.bandit = np.array([bandit_prob,1 - bandit_prob])\n",
    "        else:\n",
    "            self.bandit = np.random.uniform(size=2)\n",
    "        \n",
    "    def step(self,action):\n",
    "        #Get a random number.\n",
    "        if self.difficulty == 'restless': \n",
    "            self.set_restless_prob()\n",
    "        self.timestep += 1\n",
    "        bandit = self.bandit[action]\n",
    "        result = np.random.uniform()\n",
    "        if result < bandit:\n",
    "            #return a positive reward.\n",
    "            reward = 1\n",
    "        else:\n",
    "            #return a negative reward.\n",
    "            reward = 0\n",
    "        if self.timestep > self.n_timesteps - 1: \n",
    "            done = True\n",
    "        else: \n",
    "            done = False\n",
    "        return reward, done, self.timestep"
   ]
  },
  {
   "cell_type": "code",
   "execution_count": null,
   "metadata": {},
   "outputs": [],
   "source": [
    "bandit = dependent_bandit('uniform')"
   ]
  },
  {
   "cell_type": "code",
   "execution_count": null,
   "metadata": {},
   "outputs": [],
   "source": [
    "bandit.reset()"
   ]
  },
  {
   "cell_type": "code",
   "execution_count": null,
   "metadata": {},
   "outputs": [],
   "source": [
    "bandit.step(0)"
   ]
  },
  {
   "cell_type": "code",
   "execution_count": null,
   "metadata": {},
   "outputs": [],
   "source": [
    "class Model(tf.keras.Model):\n",
    "    def __init__(self, num_actions, batch_size=1, n_timesteps=None, n_features=4, name='meta_policy'):\n",
    "        super().__init__(name)\n",
    "#         Having a stateful LSTM means that you will need to reset the hidden state \n",
    "#         in between batches yourself if you do want independent batches. \n",
    "#         The default initial hidden state in Tensorflow is all zeros.\n",
    "        self.lstm = kl.LSTM(\n",
    "            48, name='hidden', \n",
    "            stateful=True, \n",
    "            time_major=True, # ['time', 'batch', 'features']\n",
    "            return_sequences=True, \n",
    "            recurrent_initializer='zeros'\n",
    "        )\n",
    "        self.lstm.build((n_timesteps, batch_size, n_features)) # set batch size, must be done with stateful lstm\n",
    "        self.policy = kl.Dense(\n",
    "            num_actions, name='policy'\n",
    "        )\n",
    "        self.value = kl.Dense(\n",
    "            1, name='value'\n",
    "        )\n",
    "\n",
    "    def call(self, inputs, **kwargs):\n",
    "        inputs = tf.cast(inputs, dtype=tf.float32)\n",
    "#         print(inputs)\n",
    "        output = self.lstm(inputs)\n",
    "        value = self.value(output)\n",
    "        policy = self.policy(output)\n",
    "        return tf.squeeze(policy, 1), tf.squeeze(value, (1, 2))\n",
    "\n",
    "    def predict_action_value(self, obs):\n",
    "        # Executes `call()` under the hood.\n",
    "        policy, value = self.predict_on_batch(obs)\n",
    "        actions = tf.squeeze(tf.random.categorical(policy, 1), 1)\n",
    "        return actions, value "
   ]
  },
  {
   "cell_type": "code",
   "execution_count": 10,
   "metadata": {},
   "outputs": [],
   "source": [
    "env = dependent_bandit('uniform')"
   ]
  },
  {
   "cell_type": "code",
   "execution_count": 11,
   "metadata": {},
   "outputs": [
    {
     "name": "stdout",
     "output_type": "stream",
     "text": [
      "tf.Tensor([0 1], shape=(2,), dtype=int64) tf.Tensor([0.0655949  0.11440822], shape=(2,), dtype=float32)\n"
     ]
    }
   ],
   "source": [
    "# Verify everything works by sampling two actions.\n",
    "\n",
    "model = Model(env.num_actions)\n",
    "\n",
    "action = 0\n",
    "reward, timestep = 0, 0\n",
    "# reward, done, timestep = env.step(action)\n",
    "action = tf.one_hot(action, 2)\n",
    "observation = tf.concat([\n",
    "        [[reward],[reward]], \n",
    "        [action, action],\n",
    "        [[timestep], [timestep]]], 1)\n",
    "observation = tf.expand_dims(observation, [1])\n",
    "# print(observation)\n",
    "action, value = model.predict_action_value(observation)\n",
    "print(action, value)\n",
    "# print(action.shape, value.shape)"
   ]
  },
  {
   "cell_type": "code",
   "execution_count": 12,
   "metadata": {},
   "outputs": [
    {
     "name": "stdout",
     "output_type": "stream",
     "text": [
      "[<tf.Variable 'Variable:0' shape=(1, 48) dtype=float32, numpy=\n",
      "array([[0., 0., 0., 0., 0., 0., 0., 0., 0., 0., 0., 0., 0., 0., 0., 0.,\n",
      "        0., 0., 0., 0., 0., 0., 0., 0., 0., 0., 0., 0., 0., 0., 0., 0.,\n",
      "        0., 0., 0., 0., 0., 0., 0., 0., 0., 0., 0., 0., 0., 0., 0., 0.]],\n",
      "      dtype=float32)>, <tf.Variable 'Variable:0' shape=(1, 48) dtype=float32, numpy=\n",
      "array([[0., 0., 0., 0., 0., 0., 0., 0., 0., 0., 0., 0., 0., 0., 0., 0.,\n",
      "        0., 0., 0., 0., 0., 0., 0., 0., 0., 0., 0., 0., 0., 0., 0., 0.,\n",
      "        0., 0., 0., 0., 0., 0., 0., 0., 0., 0., 0., 0., 0., 0., 0., 0.]],\n",
      "      dtype=float32)>]\n",
      "tf.Tensor([0], shape=(1,), dtype=int64) tf.Tensor([-0.07547456], shape=(1,), dtype=float32)\n",
      "[<tf.Variable 'Variable:0' shape=(1, 48) dtype=float32, numpy=\n",
      "array([[-0.00159882,  0.03399213, -0.02740747, -0.0020262 ,  0.03342454,\n",
      "        -0.00533516,  0.03278727,  0.04857245,  0.07296358, -0.00032561,\n",
      "        -0.03299318, -0.00362633, -0.02939189,  0.04791987,  0.03643053,\n",
      "         0.01858252, -0.06217662,  0.04763798,  0.00632009,  0.04168138,\n",
      "         0.01634462,  0.01474927,  0.02735287,  0.02924447, -0.05206422,\n",
      "         0.09380703,  0.01016161, -0.05095945, -0.01069589,  0.03887622,\n",
      "        -0.02648488,  0.05778573,  0.03428278, -0.0543198 ,  0.06985292,\n",
      "         0.00983854, -0.00919302,  0.03387121,  0.00224946,  0.08177292,\n",
      "         0.01285525,  0.070329  , -0.04299409,  0.05004763, -0.08233696,\n",
      "        -0.02509946, -0.02245436, -0.0175198 ]], dtype=float32)>, <tf.Variable 'Variable:0' shape=(1, 48) dtype=float32, numpy=\n",
      "array([[-0.00269418,  0.07320723, -0.05145141, -0.00341433,  0.07372796,\n",
      "        -0.00921325,  0.05800694,  0.10190619,  0.13317174, -0.00060681,\n",
      "        -0.06572777, -0.00668358, -0.05334778,  0.09796429,  0.08457458,\n",
      "         0.04081972, -0.13193266,  0.08716682,  0.01195809,  0.08556528,\n",
      "         0.03427926,  0.03304701,  0.05238006,  0.05748235, -0.11259554,\n",
      "         0.22089079,  0.01956265, -0.10576647, -0.02086213,  0.07374801,\n",
      "        -0.05981818,  0.1172708 ,  0.07041437, -0.10287382,  0.13654758,\n",
      "         0.01939314, -0.01755606,  0.06698693,  0.00465923,  0.14757657,\n",
      "         0.03203439,  0.16183098, -0.07852142,  0.11031303, -0.15478547,\n",
      "        -0.05006826, -0.04646337, -0.03826706]], dtype=float32)>]\n",
      "tf.Tensor([0], shape=(1,), dtype=int64) tf.Tensor([-0.13606016], shape=(1,), dtype=float32)\n"
     ]
    }
   ],
   "source": [
    "# Verify everything works by sampling two actions with state reset.\n",
    "env = dependent_bandit('uniform')\n",
    "model = Model(env.num_actions)\n",
    "\n",
    "action = 0\n",
    "for _ in range(2):\n",
    "    print(model.lstm.states)\n",
    "    reward, done, timestep = env.step(action)\n",
    "    action = tf.one_hot(action, 2)\n",
    "    observation = tf.concat([\n",
    "        [[reward]], \n",
    "        [action],\n",
    "        [[timestep]]], 1)\n",
    "    observation = tf.expand_dims(observation, [1])\n",
    "\n",
    "    action, value = model.predict_action_value(observation)\n",
    "    print(action, value)\n",
    "#     model.lstm.reset_states()\n",
    "    action = np.squeeze(action)\n"
   ]
  },
  {
   "cell_type": "code",
   "execution_count": 13,
   "metadata": {},
   "outputs": [],
   "source": [
    "class Agent:\n",
    "    def __init__(self, model, env_name, learning_rate=1e-3, gamma=0.8, value_coefficient=0.2, entropy_coefficient=.002, name=None, data_path=None):\n",
    "        # `gamma` is the discount factor; coefficients are used for the loss terms.\n",
    "        self.gamma = gamma\n",
    "        self.value_coefficient = value_coefficient\n",
    "        self.learning_rate = learning_rate\n",
    "        self.entropy_coefficient = entropy_coefficient\n",
    "        self.env = dependent_bandit(env_name)\n",
    "        self.name = name or 'a2c_agent_env_' + env_name\n",
    "        self.model = model(env.num_actions, batch_size=1, name=self.name)\n",
    "        # Define separate losses for policy logits and value estimate.\n",
    "        self.data_path = data_path or Path().cwd() / self.name\n",
    "        self.parameters = {\n",
    "            'learning_rate': learning_rate,\n",
    "            'value_coefficient': value_coefficient,\n",
    "            'entropy_coefficient': entropy_coefficient,\n",
    "            'gamma': gamma \n",
    "        }\n",
    "        self._compile()\n",
    "    \n",
    "    def save_agent(self):\n",
    "        self.data_path.mkdir(parents=True, exist_ok=True)\n",
    "        logging.info(f\"Saving parameters, training_history and weights to {self.data_path}.\")\n",
    "        with open(str(self.data_path / self.name) + '.yaml', 'w') as f:\n",
    "            yaml.dump(self.parameters, f)\n",
    "        np.save(str(self.data_path / self.name) + '.npy', self.training_history)\n",
    "        self.model.save_weights(str(self.data_path / self.name))\n",
    "        \n",
    "    def load_agent(self):\n",
    "        logging.warning(\"Updating parameters, training_history, weights and recompiling model.\")\n",
    "        with open(str(self.data_path / self.name) + '.yaml', 'r') as f:\n",
    "            self.parameters = yaml.load(f, Loader=yaml.Loader)\n",
    "        self.training_history = np.load(str(self.data_path / self.name) + '.npy')\n",
    "        self.model.load_weights(str(self.data_path / self.name))\n",
    "        self.__dict__.update(self.parameters)\n",
    "        self._compile()\n",
    "        \n",
    "    def _compile(self):\n",
    "        self.model.compile(\n",
    "            optimizer=ko.Adam(lr=self.learning_rate), \n",
    "            loss=[self._policy_loss, self._value_loss])\n",
    "    \n",
    "    def _predict(self, action, reward, timestep):\n",
    "        action = np.squeeze(action)\n",
    "        action_onehot = tf.one_hot(action, self.env.num_actions)\n",
    "        observation = tf.concat([\n",
    "            [[reward]], \n",
    "            [action_onehot],\n",
    "            [[timestep]]], 1)\n",
    "        observation = tf.expand_dims(observation, [1])\n",
    "        new_action, value = self.model.predict_action_value(observation)\n",
    "        return new_action, value, observation\n",
    "\n",
    "    def train(self, episodes=250):\n",
    "        # Training loop: collect samples, send to optimizer, repeat episodes times.\n",
    "        self.training_history = []\n",
    "        for episode in tqdm(range(episodes)):\n",
    "            actions, rewards, values, observations = self.run_episode()\n",
    "            self.training_history.append(np.sum(rewards))\n",
    "\n",
    "            logging.info(f\"Episode: {len(self.training_history) - 1:3d}, Reward: {int(self.training_history[-1]):3d}\")\n",
    "            \n",
    "            # `next_value` is the bootstrap value estimate of the future state (critic).\n",
    "            _, next_value, _ = self._predict(actions[-1], rewards[-1], observations[-1,0,3] + 1)\n",
    "\n",
    "            self.model.reset_states()\n",
    "            \n",
    "            returns, advantages = self._returns_advantages(rewards, values, next_value)\n",
    "            # A trick to input actions and advantages through same API.\n",
    "            actions_advantages = np.concatenate([actions[:, None], advantages[:, None]], axis=1)\n",
    "            \n",
    "            losses = self.model.train_on_batch(observations, [actions_advantages, returns])\n",
    "            \n",
    "            logging.debug(f\"[{episode + 1:d}/{episodes:d}] Losses: {losses}\")\n",
    "        return self.training_history\n",
    "\n",
    "    def run_episode(self, env=None):\n",
    "        env = env or self.env\n",
    "\n",
    "        env.reset()\n",
    "        # Storage helpers for a single batch of data.\n",
    "        actions = np.empty((env.n_timesteps,), dtype=np.int32)\n",
    "        rewards, values = np.empty((2, env.n_timesteps))\n",
    "        observations = np.empty((self.env.n_timesteps, 1, 4))\n",
    "        \n",
    "        self.model.reset_states()\n",
    "        action, reward, timestep, done, step = 0, 0, 0, 0, 0\n",
    "        while not done:\n",
    "            # action and reward at t - 1 and timestep at t\n",
    "            action, value, observations[step] = self._predict(action, reward, timestep + 1)\n",
    "            reward, done, timestep = env.step(action)\n",
    "            # rewards, values and actions at t\n",
    "            rewards[step] = reward\n",
    "            actions[step] = action\n",
    "            values[step] = value\n",
    "            step += 1\n",
    "        return actions, rewards, values, observations\n",
    "    \n",
    "    def _returns_advantages(self, rewards, values, next_value):\n",
    "        # `next_value` is the bootstrap value estimate of the future state (critic).\n",
    "        returns = np.append(np.zeros_like(rewards), next_value, axis=-1)\n",
    "        # Returns are calculated as discounted sum of future rewards.\n",
    "        for t in reversed(range(rewards.shape[0])):\n",
    "            returns[t] = rewards[t] + self.gamma * returns[t + 1]\n",
    "        returns = returns[:-1]\n",
    "        # Advantages are equal to returns - baseline (value estimates in our case).\n",
    "        advantages = returns - values\n",
    "        return returns, advantages\n",
    "\n",
    "    def _value_loss(self, returns, value):\n",
    "        # Value loss is typically MSE between value estimates and returns.\n",
    "        loss = self.value_coefficient * kls.mean_squared_error(returns, value)\n",
    "#         tf.keras.backend.print_tensor(loss)\n",
    "        return loss\n",
    "\n",
    "    def _policy_loss(self, actions_and_advantages, logits):\n",
    "        # A trick to input actions and advantages through the same API.\n",
    "        actions, advantages = tf.split(actions_and_advantages, 2, axis=-1)\n",
    "        # Sparse categorical CE loss obj that supports sample_weight arg on `call()`.\n",
    "        # `from_logits` argument ensures transformation into normalized probabilities.\n",
    "        weighted_sparse_ce = kls.SparseCategoricalCrossentropy(from_logits=True)\n",
    "        # Policy loss is defined by policy gradients, weighted by advantages.\n",
    "        # Note: we only calculate the loss on the actions we've actually taken.\n",
    "        actions = tf.cast(actions, tf.int32)\n",
    "        policy_loss = weighted_sparse_ce(actions, logits, sample_weight=advantages)\n",
    "        # Entropy loss can be calculated as cross-entropy over itself.\n",
    "        probs = tf.nn.softmax(logits)\n",
    "        entropy_loss = tf.reduce_sum(kls.categorical_crossentropy(probs, probs))\n",
    "        # We want to minimize policy and maximize entropy losses.\n",
    "        # Here signs are flipped because the optimizer minimizes.\n",
    "#         tf.keras.backend.print_tensor(policy_loss)\n",
    "#         tf.keras.backend.print_tensor(entropy_loss)\n",
    "        loss = policy_loss - self.entropy_coefficient * entropy_loss\n",
    "        return loss"
   ]
  },
  {
   "cell_type": "code",
   "execution_count": 14,
   "metadata": {},
   "outputs": [
    {
     "name": "stderr",
     "output_type": "stream",
     "text": [
      "/usr/local/lib/python3.6/dist-packages/ipykernel_launcher.py:38: FutureWarning: Using a non-tuple sequence for multidimensional indexing is deprecated; use `arr[tuple(seq)]` instead of `arr[seq]`. In the future this will be interpreted as an array index, `arr[np.array(seq)]`, which will result either in an error or a different result.\n"
     ]
    },
    {
     "name": "stdout",
     "output_type": "stream",
     "text": [
      "38.0\n"
     ]
    }
   ],
   "source": [
    "# logging.getLogger().setLevel(logging.INFO)\n",
    "# logging.getLogger().setLevel(logging.DEBUG)\n",
    "logging.getLogger().setLevel(logging.WARNING)\n",
    "\n",
    "\n",
    "agent = Agent(Model, env_name='hard')\n",
    "\n",
    "_, rewards, _, _ = agent.run_episode()\n",
    "print(sum(rewards))"
   ]
  },
  {
   "cell_type": "markdown",
   "metadata": {},
   "source": [
    "# train"
   ]
  },
  {
   "cell_type": "code",
   "execution_count": null,
   "metadata": {},
   "outputs": [
    {
     "data": {
      "application/vnd.jupyter.widget-view+json": {
       "model_id": "ac79367aaa6748b2afe13bcd2b55b28d",
       "version_major": 2,
       "version_minor": 0
      },
      "text/plain": [
       "HBox(children=(FloatProgress(value=0.0, max=100000.0), HTML(value='')))"
      ]
     },
     "metadata": {},
     "output_type": "display_data"
    },
    {
     "name": "stderr",
     "output_type": "stream",
     "text": [
      "/usr/local/lib/python3.6/dist-packages/ipykernel_launcher.py:38: FutureWarning: Using a non-tuple sequence for multidimensional indexing is deprecated; use `arr[tuple(seq)]` instead of `arr[seq]`. In the future this will be interpreted as an array index, `arr[np.array(seq)]`, which will result either in an error or a different result.\n",
      "/usr/local/lib/python3.6/dist-packages/ipykernel_launcher.py:38: FutureWarning: Using a non-tuple sequence for multidimensional indexing is deprecated; use `arr[tuple(seq)]` instead of `arr[seq]`. In the future this will be interpreted as an array index, `arr[np.array(seq)]`, which will result either in an error or a different result.\n"
     ]
    }
   ],
   "source": [
    "training_history = agent.train(100000)\n",
    "\n",
    "print(\"Finished training! Testing...\")\n",
    "print(\"Total Episode Reward: %d out of 100\" % agent.run_episode()[1].sum())"
   ]
  },
  {
   "cell_type": "markdown",
   "metadata": {},
   "source": [
    "# or load weights"
   ]
  },
  {
   "cell_type": "code",
   "execution_count": null,
   "metadata": {},
   "outputs": [],
   "source": [
    "agent.save_agent()"
   ]
  },
  {
   "cell_type": "code",
   "execution_count": 15,
   "metadata": {},
   "outputs": [
    {
     "name": "stderr",
     "output_type": "stream",
     "text": [
      "WARNING:root:Updating parameters, training_history, weights and recompiling model.\n"
     ]
    }
   ],
   "source": [
    "agent.load_agent()"
   ]
  },
  {
   "cell_type": "code",
   "execution_count": 17,
   "metadata": {},
   "outputs": [
    {
     "data": {
      "text/plain": [
       "Text(0, 0.5, 'Total Reward')"
      ]
     },
     "execution_count": 17,
     "metadata": {},
     "output_type": "execute_result"
    },
    {
     "data": {
      "image/png": "[encoded data removed]",
      "text/plain": [
       "<Figure size 576x396 with 1 Axes>"
      ]
     },
     "metadata": {},
     "output_type": "display_data"
    }
   ],
   "source": [
    "plt.style.use('seaborn')\n",
    "plt.plot(np.arange(0, len(agent.training_history), 5), agent.training_history[::5])\n",
    "# plt.plot(np.arange(len(training_history)), training_history)\n",
    "plt.xlabel('Episode')\n",
    "plt.ylabel('Total Reward')"
   ]
  },
  {
   "cell_type": "markdown",
   "metadata": {},
   "source": [
    "# analyze model"
   ]
  },
  {
   "cell_type": "code",
   "execution_count": 16,
   "metadata": {},
   "outputs": [],
   "source": [
    "class Benchmark:\n",
    "    def __init__(self, agent, env_name=None, n_episodes=300):\n",
    "        self.agent = agent\n",
    "        self.env_name = env_name or agent.env_name\n",
    "        self.env = dependent_bandit(self.env_name)\n",
    "        self.n_episodes = n_episodes\n",
    "    \n",
    "    def evaluate(self):\n",
    "        rewards = np.empty((self.n_episodes, env.n_timesteps))\n",
    "        actions = np.empty((self.n_episodes, env.n_timesteps))\n",
    "        values = np.empty((self.n_episodes, env.n_timesteps))\n",
    "        bandits = np.empty((self.n_episodes, 2))\n",
    "        for episode in tqdm(range(self.n_episodes)):\n",
    "            actions[episode], rewards[episode], values[episode], _ = agent.run_episode(self.env)\n",
    "            bandits[episode] = self.env.bandit\n",
    "        self.episodes = {\n",
    "            'rewards': rewards,\n",
    "            'actions': actions,\n",
    "            'values': values,\n",
    "            'bandits': bandits\n",
    "        }\n",
    "            \n",
    "    def hist(self):\n",
    "        if not hasattr(self, 'episodes'):\n",
    "            self.evaluate()\n",
    "        plt.hist(self.episodes['rewards'].sum(1) / (self.env.bandit.max() * 100))\n",
    "        \n",
    "    def plot_cumulative_regret(self):\n",
    "        if not hasattr(self, 'episodes'):\n",
    "            self.evaluate()\n",
    "        if self.env.difficulty == 'uniform':\n",
    "            raise NotImplementedError\n",
    "        regret = self.env.bandit.max() - self.episodes['rewards'].mean(0)\n",
    "        plt.plot(np.cumsum(regret))\n",
    "        \n",
    "    def plot_rewards(self):\n",
    "        import matplotlib.patches as mpatches\n",
    "        if not hasattr(self, 'episodes'):\n",
    "            self.evaluate()\n",
    "\n",
    "        im = plt.imshow(self.episodes['rewards'], cmap='binary', origin='lower', interpolation='nearest')\n",
    "        \n",
    "#         patches = [mpatches.Patch(color=im.cmap(im.norm(0)), label=\"Sub-optimal choice\")]\n",
    "#         plt.legend(handles=patches, )\n",
    "        \n",
    "        plt.gca().set_aspect('auto')\n",
    "        plt.grid(False)\n",
    "    \n",
    "    def plot_actions(self):\n",
    "        import matplotlib.patches as mpatches\n",
    "        if not hasattr(self, 'episodes'):\n",
    "            self.evaluate()\n",
    "        actions_optimal = np.empty_like(self.episodes['actions'])\n",
    "        _itr = zip(self.episodes['actions'], np.argmax(self.episodes['bandits'], 1))\n",
    "        \n",
    "        for i, (actions_episode, optimal_choice) in enumerate(_itr):\n",
    "            actions_optimal[i] = actions_episode == optimal_choice\n",
    "\n",
    "        im = plt.imshow(actions_optimal, cmap='Greens_r', origin='lower', interpolation='nearest')\n",
    "        \n",
    "        patches = [mpatches.Patch(color=im.cmap(im.norm(0)), label=\"Sub-optimal choice\")]\n",
    "        plt.legend(handles=patches, )\n",
    "        \n",
    "        plt.gca().set_aspect('auto')\n",
    "        plt.grid(False)"
   ]
  },
  {
   "cell_type": "code",
   "execution_count": null,
   "metadata": {},
   "outputs": [],
   "source": []
  },
  {
   "cell_type": "code",
   "execution_count": 23,
   "metadata": {},
   "outputs": [
    {
     "data": {
      "application/vnd.jupyter.widget-view+json": {
       "model_id": "0dd1361b6e3043e8b4c4d5b0892601af",
       "version_major": 2,
       "version_minor": 0
      },
      "text/plain": [
       "HBox(children=(FloatProgress(value=0.0, max=300.0), HTML(value='')))"
      ]
     },
     "metadata": {},
     "output_type": "display_data"
    },
    {
     "name": "stderr",
     "output_type": "stream",
     "text": [
      "/usr/local/lib/python3.6/dist-packages/ipykernel_launcher.py:38: FutureWarning: Using a non-tuple sequence for multidimensional indexing is deprecated; use `arr[tuple(seq)]` instead of `arr[seq]`. In the future this will be interpreted as an array index, `arr[np.array(seq)]`, which will result either in an error or a different result.\n"
     ]
    },
    {
     "name": "stdout",
     "output_type": "stream",
     "text": [
      "\n"
     ]
    }
   ],
   "source": [
    "b = Benchmark(agent, 'easy')\n",
    "b.evaluate()"
   ]
  },
  {
   "cell_type": "code",
   "execution_count": 24,
   "metadata": {},
   "outputs": [
    {
     "data": {
      "image/png": "[encoded data removed]",
      "text/plain": [
       "<Figure size 576x396 with 1 Axes>"
      ]
     },
     "metadata": {},
     "output_type": "display_data"
    }
   ],
   "source": [
    "b.plot_actions()\n",
    "# plt.xlim(0,1)"
   ]
  },
  {
   "cell_type": "code",
   "execution_count": 25,
   "metadata": {},
   "outputs": [
    {
     "data": {
      "image/png": "[encoded data removed]",
      "text/plain": [
       "<Figure size 576x396 with 1 Axes>"
      ]
     },
     "metadata": {},
     "output_type": "display_data"
    }
   ],
   "source": [
    "b.plot_rewards()"
   ]
  },
  {
   "cell_type": "code",
   "execution_count": 26,
   "metadata": {},
   "outputs": [
    {
     "data": {
      "image/png": "[encoded data removed]",
      "text/plain": [
       "<Figure size 576x396 with 1 Axes>"
      ]
     },
     "metadata": {},
     "output_type": "display_data"
    }
   ],
   "source": [
    "b.plot_cumulative_regret()"
   ]
  },
  {
   "cell_type": "code",
   "execution_count": null,
   "metadata": {},
   "outputs": [],
   "source": [
    "class ManualBenchmark:\n",
    "    def __init__(self, agent):\n",
    "        self.agent = agent\n",
    "    \n",
    "    def play(self):\n",
    "        agent.model.reset_states()\n",
    "        action, reward, timestep, done = 0, 0, 1, 0\n",
    "        actions, rewards, values = [] * 3\n",
    "        while reward >= 0:\n",
    "            # action and reward at t - 1 and timestep at t\n",
    "            action, value, _ = agent._predict(action, reward, timestep)\n",
    "            reward = input(f\"LSTM chose {action}, give me a reward 0 or 1 (-1 ends the game)\")\n",
    "            reward = int(reward)\n",
    "            # rewards, values and actions at t\n",
    "            rewards.append(reward)\n",
    "            actions.append(action)\n",
    "            values.append(value)\n",
    "            timestep += 1\n",
    "        return actions, rewards, values"
   ]
  },
  {
   "cell_type": "code",
   "execution_count": null,
   "metadata": {},
   "outputs": [],
   "source": [
    "mb = ManualBenchmark(agent)"
   ]
  },
  {
   "cell_type": "code",
   "execution_count": null,
   "metadata": {},
   "outputs": [],
   "source": [
    "mb.play()"
   ]
  }
 ],
 "metadata": {
  "kernelspec": {
   "display_name": "Python 3",
   "language": "python",
   "name": "python3"
  },
  "language_info": {
   "codemirror_mode": {
    "name": "ipython",
    "version": 3
   },
   "file_extension": ".py",
   "mimetype": "text/x-python",
   "name": "python",
   "nbconvert_exporter": "python",
   "pygments_lexer": "ipython3",
   "version": "3.6.9"
  }
 },
 "nbformat": 4,
 "nbformat_minor": 4
}
